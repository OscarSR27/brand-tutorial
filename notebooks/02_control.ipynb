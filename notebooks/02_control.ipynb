{
 "cells": [
  {
   "cell_type": "markdown",
   "metadata": {},
   "source": [
    "# Closed-Loop Cursor Control"
   ]
  },
  {
   "cell_type": "markdown",
   "metadata": {},
   "source": [
    "## 1. Run the block"
   ]
  },
  {
   "cell_type": "markdown",
   "metadata": {},
   "source": [
    "For this tutorial, we'll move a computer mouse to generate simulated neural data. For this to work, you'll need to update the `mouse_device` variable below so that it matches the path to your mouse on your system. \n",
    "\n",
    "To find the path to your mouse, check the `/dev/input/by-id/` directory for a list of device files. Usually, the file with the format \"usb-NAME-event-mouse\" will be your mouse. You can test this by moving your mouse around while listening for events with [`evtest`](https://manpages.ubuntu.com/manpages/trusty/man1/evtest.1.html):\n",
    "```\n",
    "sudo evtest /dev/input/by-id/usb-Logitech_Wireless_Receiver-event-mouse\n",
    "```"
   ]
  },
  {
   "cell_type": "code",
   "execution_count": 46,
   "metadata": {},
   "outputs": [],
   "source": [
    "mouse_device = '/dev/input/event8'"
   ]
  },
  {
   "cell_type": "markdown",
   "metadata": {},
   "source": [
    "### Load the graph\n",
    "In BRAND, each graph is configured using a YAML file. This file contains the list of nodes that will run in the graph and the parameters of each node."
   ]
  },
  {
   "cell_type": "code",
   "execution_count": 47,
   "metadata": {},
   "outputs": [],
   "source": [
    "import json\n",
    "import os\n",
    "import pickle\n",
    "import time\n",
    "from datetime import datetime\n",
    "\n",
    "import redis\n",
    "import yaml\n",
    "\n",
    "DURATION = None  # seconds\n",
    "GRAPH = 'sim_graph_cl_gen.yaml'\n",
    "REDIS_IP = '127.0.0.1'\n",
    "REDIS_PORT = 6379\n",
    "test_dir = os.getcwd()\n",
    "\n",
    "with open(os.path.join(test_dir, 'graphs', GRAPH), 'r') as f:\n",
    "    graph = yaml.safe_load(f)"
   ]
  },
  {
   "cell_type": "markdown",
   "metadata": {},
   "source": [
    "Now we'll edit the graph to use the mouse that we specified above"
   ]
  },
  {
   "cell_type": "code",
   "execution_count": 48,
   "metadata": {},
   "outputs": [],
   "source": [
    "# Edit graph\n",
    "node_names = [node['name'] for node in graph['nodes']]\n",
    "ma_idx = node_names.index('mouseAdapter')\n",
    "graph['nodes'][ma_idx]['parameters']['mouse_device'] = mouse_device"
   ]
  },
  {
   "cell_type": "markdown",
   "metadata": {},
   "source": [
    "### Run the graph\n",
    "In the next cell, we will send the graph parameters to BRAND's `supervisor` process, which will then run each node in the graph according to our configuration."
   ]
  },
  {
   "cell_type": "code",
   "execution_count": 49,
   "metadata": {},
   "outputs": [
    {
     "name": "stdout",
     "output_type": "stream",
     "text": [
      "Starting graph from sim_graph_cl_gen.yaml\n",
      "Hit ENTER to stop graph...\n",
      "Stopping graph\n",
      "Saved streams: [b'bin_multiple_state', b'binned_spikes', b'booter', b'cursorData', b'display_centerOut_state', b'display_sync_pulse', b'firing_rates', b'graph_status', b'keypress', b'mouse_vel', b'radial_fsm_state', b'sim2D_state', b'state', b'supergraph_stream', b'supervisor_ipstream', b'supervisor_status', b'targetData', b'threshold_values', b'thresholds_udp_state', b'trial_info', b'trial_success', b'wiener_filter', b'wiener_filter_state']\n",
      "Deleted streams: [b'radial_fsm_state', b'booter', b'trial_info', b'supervisor_ipstream', b'trial_success', b'thresholds_udp_state', b'supergraph_stream', b'cursorData', b'display_centerOut_state', b'firing_rates', b'keypress', b'wiener_filter_state', b'bin_multiple_state', b'threshold_values', b'targetData', b'state', b'display_sync_pulse', b'binned_spikes', b'wiener_filter', b'mouse_vel', b'sim2D_state']\n"
     ]
    }
   ],
   "source": [
    "r = redis.Redis(host=REDIS_IP, port=REDIS_PORT)\n",
    "\n",
    "curs, start_streams = r.scan(0, _type='stream')\n",
    "while curs != 0:\n",
    "    curs, streams = r.scan(curs, _type='stream')\n",
    "    start_streams += streams\n",
    "\n",
    "# get the most recent ID from each stream\n",
    "start_id = {}\n",
    "for stream in start_streams:\n",
    "    replies = r.xrevrange(stream, count=1)\n",
    "    if replies:\n",
    "        start_id[stream] = replies[0][0]\n",
    "\n",
    "print(f'Starting graph from {GRAPH}')\n",
    "r.xadd('supervisor_ipstream', {\n",
    "    'commands': 'startGraph',\n",
    "    'graph': json.dumps(graph)\n",
    "})\n",
    "\n",
    "if DURATION:\n",
    "    print(f'Waiting {DURATION} seconds')\n",
    "    time.sleep(DURATION)\n",
    "else:\n",
    "    input('Hit ENTER to stop graph...')\n",
    "\n",
    "# Stop the graph\n",
    "print('Stopping graph')\n",
    "r.xadd('supervisor_ipstream', {'commands': 'stopGraph'})\n",
    "\n",
    "curs, stop_streams = r.scan(0, _type='stream')\n",
    "while curs != 0:\n",
    "    curs, streams = r.scan(curs, _type='stream')\n",
    "    stop_streams += streams\n",
    "\n",
    "new_streams = [\n",
    "    stream for stream in stop_streams if stream not in start_streams\n",
    "]\n",
    "\n",
    "for stream in new_streams:\n",
    "    start_id[stream] = 0\n",
    "\n",
    "# Save streams\n",
    "all_data = {}\n",
    "for stream in stop_streams:\n",
    "    all_data[stream] = r.xrange(stream, min=start_id[stream])\n",
    "\n",
    "date_str = datetime.now().strftime(r'%y%m%dT%H%M')\n",
    "graph_name = os.path.splitext(os.path.basename(GRAPH))[0]\n",
    "data_dir = os.path.join(test_dir, 'data')\n",
    "os.makedirs(data_dir, exist_ok=True)\n",
    "save_path = os.path.join(data_dir, f'{date_str}_{graph_name}.pkl')\n",
    "with open(save_path, 'wb') as f:\n",
    "    pickle.dump(all_data, f)\n",
    "print(f'Saved streams: {sorted(list(all_data.keys()))}')\n",
    "\n",
    "# Remove saved data from Redis\n",
    "# delete any streams created while the graph was running\n",
    "i = 0\n",
    "if new_streams:\n",
    "    while max([r.xlen(stream) for stream in new_streams]):\n",
    "        for stream in new_streams:\n",
    "            r.delete(stream)\n",
    "        i += 1\n",
    "r.memory_purge()\n",
    "print(f'Deleted streams: {new_streams}')"
   ]
  },
  {
   "cell_type": "markdown",
   "metadata": {},
   "source": [
    "## 2. Analyze the block\n",
    "Now that we have run the graph, we will now load the data into a Pandas dataframe. The low-level details of how this is done are not critical to understand now because you may use a different process depending on your data format of choice."
   ]
  },
  {
   "cell_type": "code",
   "execution_count": 5,
   "metadata": {},
   "outputs": [],
   "source": [
    "import json\n",
    "import os\n",
    "import pickle\n",
    "\n",
    "import matplotlib.pyplot as plt\n",
    "import numpy as np\n",
    "import pandas as pd\n",
    "import yaml\n",
    "from brand.timing import timespecs_to_timestamps, timevals_to_timestamps\n",
    "from scipy.signal import butter, sosfiltfilt\n",
    "from sklearn.linear_model import RidgeCV\n",
    "from sklearn.metrics import r2_score, make_scorer\n",
    "from sklearn.model_selection import train_test_split\n",
    "from tqdm.auto import tqdm"
   ]
  },
  {
   "cell_type": "code",
   "execution_count": 6,
   "metadata": {},
   "outputs": [],
   "source": [
    "# constants\n",
    "test_dir = os.getcwd()\n",
    "data_dir = os.path.join(test_dir, 'data')\n",
    "fig_dir = os.path.join(test_dir, 'figures')\n",
    "data_file = save_path\n",
    "\n",
    "# setup\n",
    "os.makedirs(fig_dir, exist_ok=True)"
   ]
  },
  {
   "cell_type": "code",
   "execution_count": 7,
   "metadata": {},
   "outputs": [],
   "source": [
    "with open(os.path.join(data_dir, data_file), 'rb') as f:\n",
    "    graph_data = pickle.load(f)"
   ]
  },
  {
   "cell_type": "code",
   "execution_count": 8,
   "metadata": {},
   "outputs": [],
   "source": [
    "# Load graph parameters\n",
    "graphs = [\n",
    "    json.loads(entry[b'graph']) for _, entry in graph_data[b'booter']\n",
    "    if b'graph' in entry\n",
    "]\n",
    "graph = graphs[-1]"
   ]
  },
  {
   "cell_type": "code",
   "execution_count": 9,
   "metadata": {},
   "outputs": [],
   "source": [
    "# Load info about the structure of each stream\n",
    "with open('stream_spec_cl.yaml', 'r') as f:\n",
    "    stream_spec = yaml.safe_load(f)"
   ]
  },
  {
   "cell_type": "code",
   "execution_count": 10,
   "metadata": {},
   "outputs": [
    {
     "name": "stdout",
     "output_type": "stream",
     "text": [
      "Processing targetData stream\n"
     ]
    },
    {
     "data": {
      "application/vnd.jupyter.widget-view+json": {
       "model_id": "6a9bcfa9cae1499787339cd5a6e39e13",
       "version_major": 2,
       "version_minor": 0
      },
      "text/plain": [
       "0it [00:00, ?it/s]"
      ]
     },
     "metadata": {},
     "output_type": "display_data"
    },
    {
     "name": "stdout",
     "output_type": "stream",
     "text": [
      "Processing cursorData stream\n"
     ]
    },
    {
     "data": {
      "application/vnd.jupyter.widget-view+json": {
       "model_id": "3c269f9715a5477382532ad4f7498c10",
       "version_major": 2,
       "version_minor": 0
      },
      "text/plain": [
       "0it [00:00, ?it/s]"
      ]
     },
     "metadata": {},
     "output_type": "display_data"
    },
    {
     "name": "stdout",
     "output_type": "stream",
     "text": [
      "Processing mouse_vel stream\n"
     ]
    },
    {
     "data": {
      "application/vnd.jupyter.widget-view+json": {
       "model_id": "f102591232a342569a3a6e06e69726b2",
       "version_major": 2,
       "version_minor": 0
      },
      "text/plain": [
       "0it [00:00, ?it/s]"
      ]
     },
     "metadata": {},
     "output_type": "display_data"
    },
    {
     "name": "stdout",
     "output_type": "stream",
     "text": [
      "Processing binned_spikes stream\n"
     ]
    },
    {
     "data": {
      "application/vnd.jupyter.widget-view+json": {
       "model_id": "0292b2644e914484a9cee6e4b0eecd02",
       "version_major": 2,
       "version_minor": 0
      },
      "text/plain": [
       "0it [00:00, ?it/s]"
      ]
     },
     "metadata": {},
     "output_type": "display_data"
    },
    {
     "name": "stdout",
     "output_type": "stream",
     "text": [
      "Processing wiener_filter stream\n"
     ]
    },
    {
     "data": {
      "application/vnd.jupyter.widget-view+json": {
       "model_id": "ea3bf905e90440969cf54c18abb2b5ee",
       "version_major": 2,
       "version_minor": 0
      },
      "text/plain": [
       "0it [00:00, ?it/s]"
      ]
     },
     "metadata": {},
     "output_type": "display_data"
    }
   ],
   "source": [
    "# Load and parse stream data\n",
    "streams = [\n",
    "    b'targetData', b'cursorData', b'mouse_vel', b'binned_spikes',\n",
    "    b'wiener_filter'\n",
    "]\n",
    "decoded_streams = {}\n",
    "for stream in streams:\n",
    "    print(f'Processing {stream.decode()} stream')\n",
    "    stream_data = graph_data[stream]\n",
    "    out = [None] * len(stream_data)\n",
    "    spec = stream_spec[stream.decode()]\n",
    "    for i, (entry_id, entry_data) in tqdm(enumerate(stream_data)):\n",
    "        entry_dec = {}\n",
    "        for key, val in entry_data.items():\n",
    "            if key.decode() in spec:\n",
    "                dtype = spec[key.decode()]\n",
    "                if dtype == 'str':\n",
    "                    entry_dec[key.decode()] = val.decode()\n",
    "                elif dtype == 'sync':\n",
    "                    entry_dec[key.decode()] = json.loads(val)['count']\n",
    "                elif dtype == 'timeval':\n",
    "                    entry_dec[key.decode()] = timevals_to_timestamps(val)\n",
    "                elif dtype == 'timespec':\n",
    "                    entry_dec[key.decode()] = timespecs_to_timestamps(val)\n",
    "                else:\n",
    "                    dat = np.frombuffer(val, dtype=dtype)\n",
    "                    entry_dec[key.decode()] = dat[0] if dat.size == 1 else dat\n",
    "        out[i] = entry_dec\n",
    "    decoded_streams[stream.decode()] = out"
   ]
  },
  {
   "cell_type": "code",
   "execution_count": 11,
   "metadata": {},
   "outputs": [],
   "source": [
    "# Load data at the binned spikes sample rate\n",
    "# FSM\n",
    "cd_df = pd.DataFrame(decoded_streams['cursorData'])\n",
    "cd_df.set_index('sync', drop=False, inplace=True)\n",
    "cd_df.columns = [col + '_cd' for col in cd_df.columns]\n",
    "\n",
    "td_df = pd.DataFrame(decoded_streams['targetData'])\n",
    "td_df.set_index('sync', drop=False, inplace=True)\n",
    "td_df['angle'] = np.degrees(np.arctan2(td_df['Y'], td_df['X']))\n",
    "td_df.columns = [col + '_td' for col in td_df.columns]\n",
    "\n",
    "# decoding\n",
    "wf_df = pd.DataFrame(decoded_streams['wiener_filter'])\n",
    "wf_df.set_index('sync', drop=False, inplace=True)\n",
    "wf_df.columns = [col + '_wf' for col in wf_df.columns]\n",
    "\n",
    "# binning\n",
    "bs_df = pd.DataFrame(decoded_streams['binned_spikes'])\n",
    "bs_df.set_index('sync', drop=False, inplace=True)\n",
    "bs_df.columns = [col + '_bs' for col in bs_df.columns]\n",
    "\n",
    "# join the dataframes\n",
    "bin_df = cd_df.join(td_df).join(wf_df).join(bs_df)"
   ]
  },
  {
   "cell_type": "markdown",
   "metadata": {},
   "source": [
    "### Plot cursor kinematics"
   ]
  },
  {
   "cell_type": "code",
   "execution_count": 12,
   "metadata": {},
   "outputs": [
    {
     "data": {
      "image/png": "[encoded data removed]",
      "text/plain": [
       "<Figure size 432x288 with 1 Axes>"
      ]
     },
     "metadata": {
      "needs_background": "light"
     },
     "output_type": "display_data"
    }
   ],
   "source": [
    "# plot kinematics\n",
    "plt.plot(bin_df['X_cd'], bin_df['Y_cd'])\n",
    "plt.axis('equal')\n",
    "plt.ylabel('Y position')\n",
    "plt.xlabel('X position')\n",
    "plt.show()"
   ]
  },
  {
   "cell_type": "code",
   "execution_count": null,
   "metadata": {},
   "outputs": [],
   "source": []
  }
 ],
 "metadata": {
  "kernelspec": {
   "display_name": "Python (rt)",
   "language": "python",
   "name": "rt"
  },
  "language_info": {
   "codemirror_mode": {
    "name": "ipython",
    "version": 3
   },
   "file_extension": ".py",
   "mimetype": "text/x-python",
   "name": "python",
   "nbconvert_exporter": "python",
   "pygments_lexer": "ipython3",
   "version": "3.8.2"
  },
  "vscode": {
   "interpreter": {
    "hash": "acea4441a5f698603dacd29996facca076bfacb138c4948e4d0cd69fcc42afa0"
   }
  }
 },
 "nbformat": 4,
 "nbformat_minor": 2
}
