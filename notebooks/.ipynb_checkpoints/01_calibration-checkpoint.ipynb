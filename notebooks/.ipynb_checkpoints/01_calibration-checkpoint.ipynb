{
 "cells": [
  {
   "cell_type": "markdown",
   "metadata": {},
   "source": [
    "# Open-Loop Decoder Calibration\n",
    "Authors: Yahia Ali, Mattia Rigotti-Thompson"
   ]
  },
  {
   "cell_type": "markdown",
   "metadata": {},
   "source": [
    "## 1. Run the block"
   ]
  },
  {
   "cell_type": "markdown",
   "metadata": {},
   "source": [
    "For this tutorial, we'll move a computer mouse to generate simulated neural data. For this to work, you'll need to update the `mouse_device` variable below so that it matches the path to your mouse on your system. \n",
    "\n",
    "To find the path to your mouse, check the `/dev/input/by-id/` directory for a list of device files. Usually, the file with the format \"usb-NAME-event-mouse\" will be your mouse. You can test this by moving your mouse around while listening for events with [`evtest`](https://manpages.ubuntu.com/manpages/trusty/man1/evtest.1.html):\n",
    "```\n",
    "sudo evtest /dev/input/by-id/usb-Logitech_Wireless_Receiver-event-mouse\n",
    "```"
   ]
  },
  {
   "cell_type": "code",
   "execution_count": 1,
   "metadata": {},
   "outputs": [],
   "source": [
    "# Specify the path to your mouse\n",
    "mouse_device = '/dev/input/event8'"
   ]
  },
  {
   "cell_type": "markdown",
   "metadata": {},
   "source": [
    "### Load the graph\n",
    "In BRAND, each graph is configured using a YAML file. This file contains the list of nodes that will run in the graph and the parameters of each node."
   ]
  },
  {
   "cell_type": "code",
   "execution_count": 2,
   "metadata": {},
   "outputs": [],
   "source": [
    "# Load the graph\n",
    "import json\n",
    "import os\n",
    "import pickle\n",
    "import time\n",
    "from datetime import datetime\n",
    "\n",
    "import redis\n",
    "import yaml\n",
    "\n",
    "DURATION = None  # seconds\n",
    "GRAPH = 'sim_graph_ol.yaml'\n",
    "REDIS_IP = '10.181.80.30'\n",
    "REDIS_PORT = 15000\n",
    "test_dir = os.getcwd()\n",
    "\n",
    "with open(os.path.join(test_dir, 'graphs', GRAPH), 'r') as f:\n",
    "    graph = yaml.safe_load(f)"
   ]
  },
  {
   "cell_type": "markdown",
   "metadata": {},
   "source": [
    "Now we'll edit the graph to use the mouse that we specified above"
   ]
  },
  {
   "cell_type": "code",
   "execution_count": 7,
   "metadata": {},
   "outputs": [],
   "source": [
    "# Edit graph\n",
    "node_names = [node['name'] for node in graph['nodes']]\n",
    "ma_idx = node_names.index('mouseAdapter')\n",
    "graph['nodes'][ma_idx]['parameters']['mouse_device'] = mouse_device"
   ]
  },
  {
   "cell_type": "markdown",
   "metadata": {},
   "source": [
    "### Run the graph\n",
    "In the next cell, we will send the graph parameters to BRAND's `supervisor` process, which will then run each node in the graph according to our configuration.\n",
    "\n",
    "**My Comments:**\n",
    "\n",
    "1. **Connect to Redis**: Establish a connection to the Redis server. This is a standard step for any application that needs to interact with Redis, a popular in-memory data structure store used for various purposes, including as a database and message broker.\n",
    "\n",
    "\n",
    "\n",
    "2. **Scan Pre-existing Streams**: Scans for any existing streams in Redis to understand the initial state. This is crucial, especially in environments where Redis is shared among multiple applications or processes, to avoid conflicts or data overwrites. In real environments with multiple users or systems interacting with the same Redis instance, security measures should be considered. Every process that subscribes to or publishes on this instance can potentially affect the program, so mechanisms to ensure data isolation and integrity are important.\n",
    "\n",
    "    #### Redis Keys and Cursors\n",
    "\n",
    "    A Redis key is a unique identifier used to access and store data in the Redis database. For example, a key could be the name of a list, a set, a string, a hash, etc. Keys are used to access and retrieve specific data in Redis.In the code, `r.scan(0, _type='stream')` is used to scan all keys of type \"stream\" in Redis. In this case, the keys represent the names of streams in Redis. Each stream is like a channel or entity where messages can be written and read.\n",
    "\n",
    "    A cursor in Redis is used to efficiently scan through keys in Redis. It is not a key itself but a tool that allows you to traverse keys in batches, especially when there are a large number of keys in the database. The cursor is used in scan operations to retrieve a set of keys at a time, making it easier to process large datasets without loading all keys into memory at once.\n",
    "\n",
    "    Here's how the process works:\n",
    "\n",
    "    - Initially, when a scan operation is performed (such as r.scan(0, _type='stream')), a cursor is set to 0 as the starting point.\n",
    "\n",
    "    - The scan operation returns a set of keys (a batch) starting from the specified cursor (in this case, from 0). The set of keys may contain a limited number of keys, not necessarily all keys in the database.\n",
    "\n",
    "    - The cursor is then automatically updated to the last element of the returned key set. This allows you to continue from where you left off in the next scan.\n",
    "\n",
    "    - The process repeats in a loop (the `while curs != 0` statement we use) as long as the cursor is not 0. In each iteration of the loop, another set of keys is retrieved.\n",
    "\n",
    "    In summary, the cursor is used to divide the process of key retrieval into smaller batches, which is more efficient in terms of resources, especially when working with large datasets. It doesn't fetch all keys at once but retrieves them in successive batches.\n",
    "\n",
    "    After the cursor has scanned all the keys of the specified data, it returns to zero, symbolizing the completion of the scan. It's important to emphasize that initializing the cursor at zero serves a dual purpose—it acts as both the starting point and the endpoint of the scanning process. In this context, zero is not merely an index or counter; it signifies both the initiation and the conclusion of the scan process.\n",
    "\n",
    "\n",
    "3. **Record Latest Stream IDs**: Stores the most recent ID from each stream. This step is crucial to identify changes or additions made during the graph's execution, allowing for precise tracking and data integrity.\n",
    "\n",
    "\n",
    "\n",
    "4. **Start the Graph**: Sends a command to start the graph, using the graph's configuration in JSON format. This is done by adding a message to the 'supervisor_ipstream' in Redis, which the supervisor process listens to, to control the graph execution.\n",
    "\n",
    "\n",
    "\n",
    "5. **Wait or Manual Stop**: The code either waits for a set duration (if specified) or requires manual intervention to proceed. This allows the user to control the duration of the graph's execution based on the needs of the experiment or application.\n",
    "\n",
    "\n",
    "\n",
    "6. **Stop the Graph**: Sends a command through Redis to stop the graph. This is similar to starting the graph but signals the end of the graph's execution.\n",
    "\n",
    "\n",
    "\n",
    "7. **Post-execution Stream Scan**: After stopping the graph, the code scans Redis again to identify any new streams that were created during the graph's execution.\n",
    "\n",
    "\n",
    "\n",
    "8. **Identify New Streams**: Differentiates between streams that were present before the graph started and those created during its execution. This helps in isolating data generated by the current session, ensuring that only relevant data is considered for analysis.\n",
    "\n",
    "\n",
    "9. **Read relevant information fron old and new streams**: We need to get new messages from all streams, both old and new. Our graph uses these streams to store information, which is tracked in stop_streams. For old streams, we begin reading from the latest message instead of the first. This approach helps us skip messages from previous sessions. The IDs for these latest messages are found in step 3 and stored in the start_id dictionary. As for new streams, we naturally aim to start reading messages from the very beginning. However, initially, we don't have their IDs, and they aren't even included in the dictionary. Therefore, we add these new streams to the dictionary by using their names as keys. We set their stream IDs to zero, indicating that our reading should start from the first message (where zero signifies the beginning). Understanding which streams should start at ID zero is the key reason why we needed to identify new streams. Our goal is not only to access data in new streams but to effectively monitor fresh information across all streams.\n",
    "\n",
    "\n",
    "10. **Restore Redis initial state**: Remove new streams and data."
   ]
  },
  {
   "cell_type": "code",
   "execution_count": 8,
   "metadata": {},
   "outputs": [
    {
     "name": "stdout",
     "output_type": "stream",
     "text": [
      "Starting graph from sim_graph_ol.yaml\n",
      "Hit ENTER to stop graph...\n",
      "Stopping graph\n",
      "Saved streams: [b'auto_cue_state', b'bin_multiple_state', b'binned_spikes', b'booter', b'control', b'cursorData', b'display_centerOut_state', b'display_sync_pulse', b'firing_rates', b'graph_status', b'mouse_vel', b'radial_fsm_state', b'sim2D_state', b'state', b'supergraph_stream', b'supervisor_ipstream', b'supervisor_status', b'targetData', b'threshold_values', b'thresholds_udp_state', b'trial_info', b'trial_success', b'wiener_filter']\n",
      "Deleted streams: [b'supergraph_stream', b'auto_cue_state', b'supervisor_ipstream', b'sim2D_state', b'control', b'bin_multiple_state', b'radial_fsm_state', b'thresholds_udp_state', b'display_sync_pulse', b'display_centerOut_state', b'booter', b'trial_success']\n"
     ]
    }
   ],
   "source": [
    "#Step 1\n",
    "r = redis.Redis(host=REDIS_IP, port=REDIS_PORT)\n",
    "\n",
    "#Step 2 and 3 These initial steps are primarily used to identify any preexisting streams. \n",
    "#This information will be helpful later to distinguish between the preexisting streams and the new streams \n",
    "#created during the execution of the graph. This distinction is crucial because it allows the system to \n",
    "#determine which streams contain new data that needs to be processed (the program may also use old streams\n",
    "#later we will see how to isolate new data from old data in old streams (step 8 and 9) to process new data). \n",
    "\n",
    "#Remember: streams here are like labeled containers, and identifying them helps keep track of where the \n",
    "#actual messages will be stored.\n",
    "\n",
    "#Step 2: In this step, an initial scan of the existing streams \n",
    "#        in Redis is performed. The function r.scan(0, _type='stream') \n",
    "#        returns a cursor (curs) that is used to iterate through the \n",
    "#        existing streams. The variable start_streams is a list that\n",
    "#        accumulates the names of the streams found during the scan.\n",
    "\n",
    "curs, start_streams = r.scan(0, _type='stream') \n",
    "                                        \n",
    "while curs != 0:\n",
    "    curs, streams = r.scan(curs, _type='stream')# continue scan from the last cursor in previous batch\n",
    "    start_streams += streams #update streams\n",
    "\n",
    "#Step 3: Once the list of start_streams has been identified, the \n",
    "#        next step is to obtain the most recent identifier for each \n",
    "#        of these streams. This is done using r.xrevrange(stream, \n",
    "#        count=1) for each stream in start_streams. r.xrevrange is \n",
    "#        used to retrieve the reverse range (the most recent message)\n",
    "#        from the stream. The result is a list of responses (replies),\n",
    "#        and if this list is not empty (indicating that there are messages\n",
    "#        in the stream), the identifier of the most recent message (which \n",
    "#        is the first element of the replies list) is taken and stored in \n",
    "#        the start_id dictionary with the stream's name as the key.\n",
    "\n",
    "start_id = {}\n",
    "for stream in start_streams:\n",
    "    replies = r.xrevrange(stream, count=1)\n",
    "    if replies:\n",
    "        start_id[stream] = replies[0][0]\n",
    "\n",
    "#Step 4: The json.dumps(graph) convert the graph in YAML format to json format, that is a more convenient format\n",
    "#for web communication\n",
    "print(f'Starting graph from {GRAPH}')\n",
    "r.xadd('supervisor_ipstream', {'commands': 'startGraph','graph': json.dumps(graph)})\n",
    "\n",
    "#Step 5 and 6\n",
    "if DURATION:\n",
    "    print(f'Waiting {DURATION} seconds')\n",
    "    time.sleep(DURATION)\n",
    "else:\n",
    "    input('Hit ENTER to stop graph...')\n",
    "\n",
    "# Stop the graph\n",
    "print('Stopping graph')\n",
    "r.xadd('supervisor_ipstream', {'commands': 'stopGraph'})\n",
    "\n",
    "#Step 7: streams contains the name of all preexisting and new streams (basically we repeat step 2)\n",
    "curs, stop_streams = r.scan(0, _type='stream')\n",
    "while curs != 0:\n",
    "    curs, streams = r.scan(curs, _type='stream')\n",
    "    stop_streams += streams\n",
    "\n",
    "#Step 8: It can be seen as:\n",
    "#new_streams = []\n",
    "\n",
    "#for stream in stop_streams:\n",
    "#    if stream not in start_streams:\n",
    "#        new_streams.append(stream)\n",
    "new_streams = [\n",
    "    stream for stream in stop_streams if stream not in start_streams\n",
    "]\n",
    "\n",
    "#Step 9\n",
    "for stream in new_streams:\n",
    "    start_id[stream] = 0 #Update the start_id dictionary with the new stream's names as the key\n",
    "\n",
    "# Save streams data\n",
    "all_data = {}\n",
    "for stream in stop_streams:\n",
    "    all_data[stream] = r.xrange(stream, min=start_id[stream])\n",
    "\n",
    "# Some METADATA\n",
    "date_str = datetime.now().strftime(r'%y%m%dT%H%M')\n",
    "graph_name = os.path.splitext(os.path.basename(GRAPH))[0]\n",
    "data_dir = os.path.join(test_dir, 'data')\n",
    "os.makedirs(data_dir, exist_ok=True)\n",
    "save_path = os.path.join(data_dir, f'{date_str}_{graph_name}.pkl')\n",
    "#Save stream data in file using pickle\n",
    "with open(save_path, 'wb') as f:\n",
    "    pickle.dump(all_data, f)\n",
    "print(f'Saved streams: {sorted(list(all_data.keys()))}')\n",
    "\n",
    "# Step 10:\n",
    "# Remove saved data from Redis\n",
    "# delete any streams created while the graph was running\n",
    "i = 0\n",
    "if new_streams:\n",
    "    while max([r.xlen(stream) for stream in new_streams]):\n",
    "        for stream in new_streams:\n",
    "            r.delete(stream)\n",
    "        i += 1\n",
    "r.memory_purge()\n",
    "print(f'Deleted streams: {new_streams}')\n"
   ]
  },
  {
   "cell_type": "markdown",
   "metadata": {},
   "source": [
    "## 2. Analyze the block\n",
    "Now that we have run the graph, we will now load the data into a Pandas dataframe. The low-level details of how this is done are not critical to understand now because you may use a different process depending on your data format of choice."
   ]
  },
  {
   "cell_type": "code",
   "execution_count": 9,
   "metadata": {},
   "outputs": [],
   "source": [
    "import json\n",
    "import os\n",
    "import pickle\n",
    "\n",
    "import matplotlib.pyplot as plt\n",
    "import numpy as np\n",
    "import pandas as pd\n",
    "import yaml\n",
    "from brand.timing import timespecs_to_timestamps, timevals_to_timestamps\n",
    "from scipy.signal import butter, sosfiltfilt\n",
    "from sklearn.linear_model import RidgeCV\n",
    "from sklearn.metrics import r2_score, make_scorer\n",
    "from sklearn.model_selection import train_test_split\n",
    "from tqdm.auto import tqdm"
   ]
  },
  {
   "cell_type": "code",
   "execution_count": 10,
   "metadata": {},
   "outputs": [],
   "source": [
    "# constants\n",
    "test_dir = os.getcwd()\n",
    "data_dir = os.path.join(test_dir, 'data')\n",
    "fig_dir = os.path.join(test_dir, 'figures')\n",
    "data_file = save_path\n",
    "\n",
    "# setup\n",
    "os.makedirs(fig_dir, exist_ok=True)"
   ]
  },
  {
   "cell_type": "code",
   "execution_count": 11,
   "metadata": {},
   "outputs": [],
   "source": [
    "with open(os.path.join(data_dir, data_file), 'rb') as f:\n",
    "    graph_data = pickle.load(f)"
   ]
  },
  {
   "cell_type": "code",
   "execution_count": 12,
   "metadata": {},
   "outputs": [],
   "source": [
    "# Load graph parameters\n",
    "graphs = [\n",
    "    json.loads(entry[b'graph']) for _, entry in graph_data[b'booter']\n",
    "    if b'graph' in entry\n",
    "]\n",
    "graph = graphs[-1]"
   ]
  },
  {
   "cell_type": "code",
   "execution_count": 13,
   "metadata": {},
   "outputs": [],
   "source": [
    "# Load info about the structure of each stream\n",
    "with open('stream_spec_ol.yaml', 'r') as f:\n",
    "    stream_spec = yaml.safe_load(f)"
   ]
  },
  {
   "cell_type": "code",
   "execution_count": 16,
   "metadata": {},
   "outputs": [
    {
     "name": "stdout",
     "output_type": "stream",
     "text": [
      "Processing targetData stream\n"
     ]
    },
    {
     "data": {
      "application/vnd.jupyter.widget-view+json": {
       "model_id": "322d60e443db486d8b5d1a22f015fa71",
       "version_major": 2,
       "version_minor": 0
      },
      "text/plain": [
       "0it [00:00, ?it/s]"
      ]
     },
     "metadata": {},
     "output_type": "display_data"
    },
    {
     "name": "stdout",
     "output_type": "stream",
     "text": [
      "Processing cursorData stream\n"
     ]
    },
    {
     "data": {
      "application/vnd.jupyter.widget-view+json": {
       "model_id": "369b80c988ab4fb5b0b02cb803223366",
       "version_major": 2,
       "version_minor": 0
      },
      "text/plain": [
       "0it [00:00, ?it/s]"
      ]
     },
     "metadata": {},
     "output_type": "display_data"
    },
    {
     "name": "stdout",
     "output_type": "stream",
     "text": [
      "Processing mouse_vel stream\n"
     ]
    },
    {
     "data": {
      "application/vnd.jupyter.widget-view+json": {
       "model_id": "ff57359299fe4d4bbc1ceae940e6023e",
       "version_major": 2,
       "version_minor": 0
      },
      "text/plain": [
       "0it [00:00, ?it/s]"
      ]
     },
     "metadata": {},
     "output_type": "display_data"
    },
    {
     "name": "stdout",
     "output_type": "stream",
     "text": [
      "Processing binned_spikes stream\n"
     ]
    },
    {
     "data": {
      "application/vnd.jupyter.widget-view+json": {
       "model_id": "0482b1d390b846b0b1cde0b17502cfdd",
       "version_major": 2,
       "version_minor": 0
      },
      "text/plain": [
       "0it [00:00, ?it/s]"
      ]
     },
     "metadata": {},
     "output_type": "display_data"
    },
    {
     "name": "stdout",
     "output_type": "stream",
     "text": [
      "Processing control stream\n"
     ]
    },
    {
     "data": {
      "application/vnd.jupyter.widget-view+json": {
       "model_id": "4fee18ec3d16433783e7e3bc3d699060",
       "version_major": 2,
       "version_minor": 0
      },
      "text/plain": [
       "0it [00:00, ?it/s]"
      ]
     },
     "metadata": {},
     "output_type": "display_data"
    }
   ],
   "source": [
    "# Load and parse stream data\n",
    "streams = [\n",
    "    b'targetData', b'cursorData', b'mouse_vel', b'binned_spikes',\n",
    "    b'control'\n",
    "]\n",
    "decoded_streams = {}\n",
    "for stream in streams:\n",
    "    print(f'Processing {stream.decode()} stream')\n",
    "    stream_data = graph_data[stream]\n",
    "    out = [None] * len(stream_data)\n",
    "    spec = stream_spec[stream.decode()]\n",
    "    for i, (entry_id, entry_data) in tqdm(enumerate(stream_data)):\n",
    "        entry_dec = {}\n",
    "        for key, val in entry_data.items():\n",
    "            if key.decode() in spec:\n",
    "                dtype = spec[key.decode()]\n",
    "                if dtype == 'str':\n",
    "                    entry_dec[key.decode()] = val.decode()\n",
    "                elif dtype == 'sync':\n",
    "                    entry_dec[key.decode()] = json.loads(val)['count']\n",
    "                elif dtype == 'timeval':\n",
    "                    entry_dec[key.decode()] = timevals_to_timestamps(val)\n",
    "                elif dtype == 'timespec':\n",
    "                    entry_dec[key.decode()] = timespecs_to_timestamps(val)\n",
    "                else:\n",
    "                    dat = np.frombuffer(val, dtype=dtype)\n",
    "                    entry_dec[key.decode()] = dat[0] if dat.size == 1 else dat\n",
    "        out[i] = entry_dec\n",
    "    decoded_streams[stream.decode()] = out"
   ]
  },
  {
   "cell_type": "code",
   "execution_count": 12,
   "metadata": {},
   "outputs": [
    {
     "data": {
      "text/html": [
       "<div>\n",
       "<style scoped>\n",
       "    .dataframe tbody tr th:only-of-type {\n",
       "        vertical-align: middle;\n",
       "    }\n",
       "\n",
       "    .dataframe tbody tr th {\n",
       "        vertical-align: top;\n",
       "    }\n",
       "\n",
       "    .dataframe thead th {\n",
       "        text-align: right;\n",
       "    }\n",
       "</style>\n",
       "<table border=\"1\" class=\"dataframe\">\n",
       "  <thead>\n",
       "    <tr style=\"text-align: right;\">\n",
       "      <th></th>\n",
       "      <th>X_cd</th>\n",
       "      <th>Y_cd</th>\n",
       "      <th>radius_cd</th>\n",
       "      <th>state_cd</th>\n",
       "      <th>sync_cd</th>\n",
       "      <th>ts_cd</th>\n",
       "      <th>X_td</th>\n",
       "      <th>Y_td</th>\n",
       "      <th>state_td</th>\n",
       "      <th>sync_td</th>\n",
       "      <th>ts_td</th>\n",
       "      <th>angle_td</th>\n",
       "      <th>samples_bs</th>\n",
       "      <th>ts_bs</th>\n",
       "      <th>sync_bs</th>\n",
       "      <th>samples_ac</th>\n",
       "      <th>sync_ac</th>\n",
       "      <th>ts_ac</th>\n",
       "    </tr>\n",
       "    <tr>\n",
       "      <th>sync</th>\n",
       "      <th></th>\n",
       "      <th></th>\n",
       "      <th></th>\n",
       "      <th></th>\n",
       "      <th></th>\n",
       "      <th></th>\n",
       "      <th></th>\n",
       "      <th></th>\n",
       "      <th></th>\n",
       "      <th></th>\n",
       "      <th></th>\n",
       "      <th></th>\n",
       "      <th></th>\n",
       "      <th></th>\n",
       "      <th></th>\n",
       "      <th></th>\n",
       "      <th></th>\n",
       "      <th></th>\n",
       "    </tr>\n",
       "  </thead>\n",
       "  <tbody>\n",
       "    <tr>\n",
       "      <th>1</th>\n",
       "      <td>0.0</td>\n",
       "      <td>0.0</td>\n",
       "      <td>25.0</td>\n",
       "      <td>1</td>\n",
       "      <td>1</td>\n",
       "      <td>10003647043234</td>\n",
       "      <td>0.0</td>\n",
       "      <td>0.0</td>\n",
       "      <td>0</td>\n",
       "      <td>1</td>\n",
       "      <td>10003647087439</td>\n",
       "      <td>0.0</td>\n",
       "      <td>[0, 0, 0, 0, 0, 0, 0, 0, 0, 0, 0, 1, 0, 0, 0, ...</td>\n",
       "      <td>10003645898213</td>\n",
       "      <td>1</td>\n",
       "      <td>[0.0, 0.0]</td>\n",
       "      <td>1</td>\n",
       "      <td>10003646402969</td>\n",
       "    </tr>\n",
       "    <tr>\n",
       "      <th>2</th>\n",
       "      <td>0.0</td>\n",
       "      <td>0.0</td>\n",
       "      <td>25.0</td>\n",
       "      <td>1</td>\n",
       "      <td>2</td>\n",
       "      <td>10003648129532</td>\n",
       "      <td>0.0</td>\n",
       "      <td>0.0</td>\n",
       "      <td>0</td>\n",
       "      <td>2</td>\n",
       "      <td>10003648140572</td>\n",
       "      <td>0.0</td>\n",
       "      <td>[0, 0, 0, 0, 0, 0, 0, 0, 0, 0, 0, 0, 0, 0, 0, ...</td>\n",
       "      <td>10003646652987</td>\n",
       "      <td>2</td>\n",
       "      <td>[0.0, 0.0]</td>\n",
       "      <td>2</td>\n",
       "      <td>10003647717218</td>\n",
       "    </tr>\n",
       "    <tr>\n",
       "      <th>3</th>\n",
       "      <td>0.0</td>\n",
       "      <td>0.0</td>\n",
       "      <td>25.0</td>\n",
       "      <td>1</td>\n",
       "      <td>3</td>\n",
       "      <td>10003649061503</td>\n",
       "      <td>0.0</td>\n",
       "      <td>0.0</td>\n",
       "      <td>0</td>\n",
       "      <td>3</td>\n",
       "      <td>10003649073305</td>\n",
       "      <td>0.0</td>\n",
       "      <td>[0, 0, 0, 0, 0, 0, 1, 0, 0, 0, 0, 0, 0, 0, 0, ...</td>\n",
       "      <td>10003647696187</td>\n",
       "      <td>3</td>\n",
       "      <td>[0.0, 0.0]</td>\n",
       "      <td>3</td>\n",
       "      <td>10003648689096</td>\n",
       "    </tr>\n",
       "    <tr>\n",
       "      <th>4</th>\n",
       "      <td>0.0</td>\n",
       "      <td>0.0</td>\n",
       "      <td>25.0</td>\n",
       "      <td>1</td>\n",
       "      <td>4</td>\n",
       "      <td>10003649484664</td>\n",
       "      <td>0.0</td>\n",
       "      <td>0.0</td>\n",
       "      <td>0</td>\n",
       "      <td>4</td>\n",
       "      <td>10003649495293</td>\n",
       "      <td>0.0</td>\n",
       "      <td>[0, 0, 0, 0, 0, 1, 0, 0, 0, 0, 0, 0, 0, 0, 0, ...</td>\n",
       "      <td>10003648759208</td>\n",
       "      <td>4</td>\n",
       "      <td>[0.0, 0.0]</td>\n",
       "      <td>4</td>\n",
       "      <td>10003649105020</td>\n",
       "    </tr>\n",
       "    <tr>\n",
       "      <th>5</th>\n",
       "      <td>0.0</td>\n",
       "      <td>0.0</td>\n",
       "      <td>25.0</td>\n",
       "      <td>1</td>\n",
       "      <td>5</td>\n",
       "      <td>10003650037050</td>\n",
       "      <td>0.0</td>\n",
       "      <td>0.0</td>\n",
       "      <td>0</td>\n",
       "      <td>5</td>\n",
       "      <td>10003650045545</td>\n",
       "      <td>0.0</td>\n",
       "      <td>[0, 0, 0, 0, 0, 0, 0, 0, 0, 0, 0, 0, 0, 0, 0, ...</td>\n",
       "      <td>10003649591008</td>\n",
       "      <td>5</td>\n",
       "      <td>[0.0, 0.0]</td>\n",
       "      <td>5</td>\n",
       "      <td>10003649868893</td>\n",
       "    </tr>\n",
       "  </tbody>\n",
       "</table>\n",
       "</div>"
      ],
      "text/plain": [
       "      X_cd  Y_cd  radius_cd  state_cd  sync_cd           ts_cd  X_td  Y_td  \\\n",
       "sync                                                                         \n",
       "1      0.0   0.0       25.0         1        1  10003647043234   0.0   0.0   \n",
       "2      0.0   0.0       25.0         1        2  10003648129532   0.0   0.0   \n",
       "3      0.0   0.0       25.0         1        3  10003649061503   0.0   0.0   \n",
       "4      0.0   0.0       25.0         1        4  10003649484664   0.0   0.0   \n",
       "5      0.0   0.0       25.0         1        5  10003650037050   0.0   0.0   \n",
       "\n",
       "      state_td  sync_td           ts_td  angle_td  \\\n",
       "sync                                                \n",
       "1            0        1  10003647087439       0.0   \n",
       "2            0        2  10003648140572       0.0   \n",
       "3            0        3  10003649073305       0.0   \n",
       "4            0        4  10003649495293       0.0   \n",
       "5            0        5  10003650045545       0.0   \n",
       "\n",
       "                                             samples_bs           ts_bs  \\\n",
       "sync                                                                      \n",
       "1     [0, 0, 0, 0, 0, 0, 0, 0, 0, 0, 0, 1, 0, 0, 0, ...  10003645898213   \n",
       "2     [0, 0, 0, 0, 0, 0, 0, 0, 0, 0, 0, 0, 0, 0, 0, ...  10003646652987   \n",
       "3     [0, 0, 0, 0, 0, 0, 1, 0, 0, 0, 0, 0, 0, 0, 0, ...  10003647696187   \n",
       "4     [0, 0, 0, 0, 0, 1, 0, 0, 0, 0, 0, 0, 0, 0, 0, ...  10003648759208   \n",
       "5     [0, 0, 0, 0, 0, 0, 0, 0, 0, 0, 0, 0, 0, 0, 0, ...  10003649591008   \n",
       "\n",
       "      sync_bs  samples_ac  sync_ac           ts_ac  \n",
       "sync                                                \n",
       "1           1  [0.0, 0.0]        1  10003646402969  \n",
       "2           2  [0.0, 0.0]        2  10003647717218  \n",
       "3           3  [0.0, 0.0]        3  10003648689096  \n",
       "4           4  [0.0, 0.0]        4  10003649105020  \n",
       "5           5  [0.0, 0.0]        5  10003649868893  "
      ]
     },
     "execution_count": 12,
     "metadata": {},
     "output_type": "execute_result"
    }
   ],
   "source": [
    "# Load data at the binned spikes sample rate\n",
    "# FSM\n",
    "cd_df = pd.DataFrame(decoded_streams['cursorData'])\n",
    "cd_df.set_index('sync', drop=False, inplace=True)\n",
    "cd_df.columns = [col + '_cd' for col in cd_df.columns]\n",
    "\n",
    "td_df = pd.DataFrame(decoded_streams['targetData'])\n",
    "td_df.set_index('sync', drop=False, inplace=True)\n",
    "td_df['angle'] = np.degrees(np.arctan2(td_df['Y'], td_df['X']))\n",
    "td_df.columns = [col + '_td' for col in td_df.columns]\n",
    "\n",
    "# binning\n",
    "bs_df = pd.DataFrame(decoded_streams['binned_spikes'])\n",
    "bs_df.set_index('sync', drop=False, inplace=True)\n",
    "bs_df.columns = [col + '_bs' for col in bs_df.columns]\n",
    "\n",
    "# autocue\n",
    "ac_df = pd.DataFrame(decoded_streams['control'])\n",
    "ac_df.set_index('sync', drop=False, inplace=True)\n",
    "ac_df.columns = [col + '_ac' for col in ac_df.columns]\n",
    "\n",
    "# join the dataframes\n",
    "bin_df = cd_df.join(td_df).join(bs_df).join(ac_df)\n",
    "\n",
    "bin_df.head()"
   ]
  },
  {
   "cell_type": "markdown",
   "metadata": {},
   "source": [
    "## 3. Train a decoder\n",
    "Now we will train a Wiener filter decoder to predict cursor velocity from the simulated data."
   ]
  },
  {
   "cell_type": "code",
   "execution_count": 13,
   "metadata": {},
   "outputs": [],
   "source": [
    "# Train a decoder\n",
    "SEQ_LEN = 15  # sequence length for the Wiener filter\n",
    "\n",
    "\n",
    "def get_lagged_features(data, n_history: int = 4):\n",
    "    \"\"\"\n",
    "    Lag the data along the time axis. Stack the lagged versions of the data\n",
    "    along the feature axis.\n",
    "\n",
    "    Parameters\n",
    "    ----------\n",
    "    data : array of shape (n_samples, n_features)\n",
    "        Data to be lagged\n",
    "    n_history : int, optional\n",
    "        Number of bins of history to include in the lagged data, by default 4\n",
    "\n",
    "    Returns\n",
    "    -------\n",
    "    lagged_features : array of shape (n_samples, n_history * n_features)\n",
    "        Lagged version of the original data\n",
    "    \"\"\"\n",
    "    assert n_history >= 0, 'n_history must be greater than or equal to 0'\n",
    "    seq_len = n_history + 1\n",
    "    lags = [None] * seq_len\n",
    "    for i in range(seq_len):\n",
    "        lags[i] = np.zeros_like(data)\n",
    "        lags[i][i:, :] = data[:-i, :] if i > 0 else data\n",
    "    lagged_features = np.hstack(lags)\n",
    "    return lagged_features\n",
    "\n",
    "\n",
    "neural_stream = 'binned_spikes'\n",
    "kin_stream = 'control'\n",
    "gain = 3\n",
    "\n",
    "neural_data = np.vstack(bin_df['samples_bs'])\n",
    "neural_data = get_lagged_features(neural_data, n_history=SEQ_LEN - 1)\n",
    "kin_data = np.vstack(bin_df['samples_ac'])[:, :2] * gain"
   ]
  },
  {
   "cell_type": "code",
   "execution_count": 14,
   "metadata": {},
   "outputs": [],
   "source": [
    "X_train, X_test, y_train, y_test = train_test_split(neural_data,\n",
    "                                                    kin_data,\n",
    "                                                    test_size=0.25,\n",
    "                                                    shuffle=False)\n",
    "# Fit the Ridge regression model\n",
    "# Use k-fold cross-validation to select the weight of the L2 penalty\n",
    "scorer = make_scorer(r2_score)\n",
    "mdl = RidgeCV(alphas=np.logspace(2, 5, 4), cv=3, scoring=scorer)\n",
    "mdl.fit(X_train, y_train)\n",
    "y_test_pred = mdl.predict(X_test)"
   ]
  },
  {
   "cell_type": "code",
   "execution_count": 15,
   "metadata": {},
   "outputs": [
    {
     "data": {
      "text/plain": [
       "1000.0"
      ]
     },
     "execution_count": 15,
     "metadata": {},
     "output_type": "execute_result"
    }
   ],
   "source": [
    "mdl.alpha_"
   ]
  },
  {
   "cell_type": "code",
   "execution_count": 16,
   "metadata": {},
   "outputs": [
    {
     "data": {
      "text/plain": [
       "-0.02469894329351574"
      ]
     },
     "execution_count": 16,
     "metadata": {},
     "output_type": "execute_result"
    }
   ],
   "source": [
    "r2_score(y_test, y_test_pred)"
   ]
  },
  {
   "cell_type": "markdown",
   "metadata": {},
   "source": [
    "This decoder will now be saved to disk, and we will update the closed-loop cursor control graph to use the updated decoder path."
   ]
  },
  {
   "cell_type": "code",
   "execution_count": 17,
   "metadata": {},
   "outputs": [],
   "source": [
    "# Save the trained model\n",
    "file_desc = data_file.split('_')[0]\n",
    "\n",
    "model_dir = 'models'\n",
    "os.makedirs(model_dir, exist_ok=True)\n",
    "model_path = os.path.join(model_dir, f'{file_desc}_wf_seq_len_{SEQ_LEN}.pkl')\n",
    "\n",
    "with open(model_path, 'wb') as f:\n",
    "    pickle.dump(mdl, f)"
   ]
  },
  {
   "cell_type": "code",
   "execution_count": 18,
   "metadata": {},
   "outputs": [],
   "source": [
    "# Update the config of the closed-loop graph to load the saved model\n",
    "for cl_graph_path in ['sim_graph_cl.yaml', 'sim_graph_cl_mm.yaml']:\n",
    "    with open(os.path.join(test_dir, 'graphs', cl_graph_path), 'rb') as f:\n",
    "        cl_graph = yaml.safe_load(f)\n",
    "\n",
    "    node_names = [node['name'] for node in cl_graph['nodes']]\n",
    "    wf_idx = node_names.index('wiener_filter')\n",
    "\n",
    "    cl_graph['nodes'][wf_idx]['parameters']['model_path'] = os.path.abspath(\n",
    "        model_path)\n",
    "    cl_graph['nodes'][wf_idx]['parameters']['seq_len'] = SEQ_LEN\n",
    "\n",
    "    # Save the edited config\n",
    "    cl_graph_gen_path = list(os.path.splitext(cl_graph_path))\n",
    "    cl_graph_gen_path.insert(-1, '_gen')\n",
    "    cl_graph_gen_path = ''.join(cl_graph_gen_path)\n",
    "\n",
    "    with open(os.path.join(test_dir, 'graphs', cl_graph_gen_path), 'w') as f:\n",
    "        yaml.dump(cl_graph, f)"
   ]
  },
  {
   "cell_type": "code",
   "execution_count": 19,
   "metadata": {},
   "outputs": [
    {
     "data": {
      "image/png": "[encoded data removed]",
      "text/plain": [
       "<Figure size 432x288 with 2 Axes>"
      ]
     },
     "metadata": {
      "needs_background": "light"
     },
     "output_type": "display_data"
    }
   ],
   "source": [
    "N = 10000\n",
    "fig, axes = plt.subplots(nrows=2, ncols=1, figsize=(6, 4))\n",
    "kin_pred = mdl.predict(neural_data)\n",
    "axes[0].plot(kin_data[-N:, 0])\n",
    "axes[0].plot(kin_pred[-N:, 0])\n",
    "axes[1].plot(kin_data[-N:, 1])\n",
    "axes[1].plot(kin_pred[-N:, 1])\n",
    "plt.show()"
   ]
  },
  {
   "cell_type": "code",
   "execution_count": null,
   "metadata": {},
   "outputs": [],
   "source": []
  },
  {
   "cell_type": "code",
   "execution_count": null,
   "metadata": {},
   "outputs": [],
   "source": []
  }
 ],
 "metadata": {
  "kernelspec": {
   "display_name": "Python (rt)",
   "language": "python",
   "name": "rt"
  },
  "language_info": {
   "codemirror_mode": {
    "name": "ipython",
    "version": 3
   },
   "file_extension": ".py",
   "mimetype": "text/x-python",
   "name": "python",
   "nbconvert_exporter": "python",
   "pygments_lexer": "ipython3",
   "version": "3.8.2"
  },
  "vscode": {
   "interpreter": {
    "hash": "acea4441a5f698603dacd29996facca076bfacb138c4948e4d0cd69fcc42afa0"
   }
  }
 },
 "nbformat": 4,
 "nbformat_minor": 2
}
